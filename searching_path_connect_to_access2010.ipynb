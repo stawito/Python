{
 "cells": [
  {
   "cell_type": "code",
   "execution_count": 1,
   "metadata": {},
   "outputs": [],
   "source": [
    "import os"
   ]
  },
  {
   "cell_type": "code",
   "execution_count": 2,
   "metadata": {},
   "outputs": [
    {
     "name": "stdout",
     "output_type": "stream",
     "text": [
      "C:\\Users\\tomasz.stawiany\n"
     ]
    }
   ],
   "source": [
    "print(os.getcwd()) # getcwd() wyswietla aktualna scieszkę"
   ]
  },
  {
   "cell_type": "code",
   "execution_count": 3,
   "metadata": {},
   "outputs": [
    {
     "name": "stdout",
     "output_type": "stream",
     "text": [
      "C:\\Users\\tomasz.stawiany\\Desktop\\toExcel\n"
     ]
    }
   ],
   "source": [
    "os.chdir(r\"C:\\Users\\tomasz.stawiany\\Desktop\\toExcel\") # amiana śceżki\n",
    "print(os.getcwd())"
   ]
  },
  {
   "cell_type": "code",
   "execution_count": 4,
   "metadata": {},
   "outputs": [
    {
     "name": "stdout",
     "output_type": "stream",
     "text": [
      "['export_excel_2010.ipynb', 'FileData.txt', 'folder', 'KOREKTA_DRA_III_NUM_WZR_KBN_DANE.accdb', 'KOREKTA_DRA_III_NUM_WZR_KBN_DANE_moje.accdb', 'słownik.docx', 'testy_makro', 'testy_makro - Kopia', 'wynik', 'WYNIK_070000.txt', 'WYNIK_090000_190000.txt', 'WYNIK_200000_280000.txt', 'WYNIK_290000_390000.txt', 'WYNIK_360000.xlsx', 'WYNIK_420000_510000.txt', 'WYNIK_520000_570000.txt']\n"
     ]
    }
   ],
   "source": [
    "l = list(os.listdir()) # Uzyskanie listy plików i folderów zawartych w danej lokalizacji za pomocą funkcji os.listdir:\n",
    "print(l)"
   ]
  },
  {
   "cell_type": "code",
   "execution_count": 5,
   "metadata": {},
   "outputs": [
    {
     "data": {
      "text/plain": [
       "True"
      ]
     },
     "execution_count": 5,
     "metadata": {},
     "output_type": "execute_result"
    }
   ],
   "source": [
    "os.path.exists(r\"C:\\Users\\tomasz.stawiany\\Desktop\\toExcel\\export_excel_2010.ipynb\") # Sprawdzanie, czy dana ścieżka jest poprawna za pomocą funkcji os.path.exist:"
   ]
  },
  {
   "cell_type": "code",
   "execution_count": 6,
   "metadata": {},
   "outputs": [
    {
     "data": {
      "text/plain": [
       "True"
      ]
     },
     "execution_count": 6,
     "metadata": {},
     "output_type": "execute_result"
    }
   ],
   "source": [
    "os.path.isabs(r\"C:\\Users\\tomasz.stawiany\\Desktop\\toExcel\") # czy podana śceiżkajest bezwględna"
   ]
  },
  {
   "cell_type": "code",
   "execution_count": 7,
   "metadata": {},
   "outputs": [
    {
     "data": {
      "text/plain": [
       "True"
      ]
     },
     "execution_count": 7,
     "metadata": {},
     "output_type": "execute_result"
    }
   ],
   "source": [
    "os.path.isabs(r\"C:\\Users\\tomasz.stawiany\\Desktop\\toExcel\\export_excel_2010.ipynb\") #Sprawdzanie, czy dana ścieżka prowadzi do pliku za pomocą funkcji os.path.isfile:"
   ]
  },
  {
   "cell_type": "code",
   "execution_count": 8,
   "metadata": {},
   "outputs": [
    {
     "data": {
      "text/plain": [
       "False"
      ]
     },
     "execution_count": 8,
     "metadata": {},
     "output_type": "execute_result"
    }
   ],
   "source": [
    "os.path.isabs(r\"..\\Desktop\\toExcel\\export_excel_2010.ipynb\") #Sprawdzanie, czy dana ścieżka prowadzi do pliku za pomocą funkcji os.path.isfile:"
   ]
  },
  {
   "cell_type": "code",
   "execution_count": 9,
   "metadata": {},
   "outputs": [
    {
     "data": {
      "text/plain": [
       "True"
      ]
     },
     "execution_count": 9,
     "metadata": {},
     "output_type": "execute_result"
    }
   ],
   "source": [
    "os.path.isdir(r\"C:\\Users\\tomasz.stawiany\\Desktop\") #Sprawdzanie, czy dana ścieżka prowadzi do folderu za pomocą funkcji os.path.isdir:"
   ]
  },
  {
   "cell_type": "code",
   "execution_count": 10,
   "metadata": {},
   "outputs": [
    {
     "data": {
      "text/plain": [
       "False"
      ]
     },
     "execution_count": 10,
     "metadata": {},
     "output_type": "execute_result"
    }
   ],
   "source": [
    "'WYNIK_090000_190000.txt' == '*.txt' "
   ]
  },
  {
   "cell_type": "code",
   "execution_count": 11,
   "metadata": {},
   "outputs": [
    {
     "data": {
      "text/plain": [
       "False"
      ]
     },
     "execution_count": 11,
     "metadata": {},
     "output_type": "execute_result"
    }
   ],
   "source": [
    "os.path.ismount(r\"c:/Users\") # Sprawdzanie, czy dana ścieżka prowadzi do dysku za pomocą funkcji os.path.ismount:"
   ]
  },
  {
   "cell_type": "code",
   "execution_count": 12,
   "metadata": {},
   "outputs": [
    {
     "data": {
      "text/plain": [
       "True"
      ]
     },
     "execution_count": 12,
     "metadata": {},
     "output_type": "execute_result"
    }
   ],
   "source": [
    "os.path.ismount(r\"c:/\") # Sprawdzanie, czy dana ścieżka prowadzi do dysku za pomocą funkcji os.path.ismount:"
   ]
  },
  {
   "cell_type": "code",
   "execution_count": 13,
   "metadata": {},
   "outputs": [
    {
     "data": {
      "text/plain": [
       "15495"
      ]
     },
     "execution_count": 13,
     "metadata": {},
     "output_type": "execute_result"
    }
   ],
   "source": [
    "os.path.getsize(r\"C:\\Users\\tomasz.stawiany\\Desktop\\toExcel\\export_excel_2010.ipynb\") # Pozyskanie rozmiaru pliku w bajtach za pomocą funkcji os.path.getsize:"
   ]
  },
  {
   "cell_type": "code",
   "execution_count": 14,
   "metadata": {},
   "outputs": [
    {
     "name": "stdout",
     "output_type": "stream",
     "text": [
      "Fri Jul 12 10:10:43 2019\n"
     ]
    }
   ],
   "source": [
    "import time\n",
    "print(time.ctime(os.path.getctime(r\"C:\\Users\\tomasz.stawiany\\Desktop\\toExcel\\export_excel_2010.ipynb\"))) # Pozyskanie daty utworzenia pliku za pomocą funkcji os.path.getctime:"
   ]
  },
  {
   "cell_type": "code",
   "execution_count": 15,
   "metadata": {},
   "outputs": [
    {
     "name": "stdout",
     "output_type": "stream",
     "text": [
      "Fri Jul 12 10:07:00 2019\n"
     ]
    }
   ],
   "source": [
    "print(time.ctime(os.path.getmtime(r\"C:\\Users\\tomasz.stawiany\\Desktop\\toExcel\\export_excel_2010.ipynb\"))) # Pozyskanie daty ostatniej modyfikacji pliku za pomocą funkcji os.path.getmtime:"
   ]
  },
  {
   "cell_type": "code",
   "execution_count": 16,
   "metadata": {},
   "outputs": [
    {
     "name": "stdout",
     "output_type": "stream",
     "text": [
      "('C:\\\\Users\\\\tomasz.stawiany\\\\Desktop\\\\toExcel', 'export_excel_2010.ipynb')\n"
     ]
    }
   ],
   "source": [
    "print(os.path.split(r\"C:\\Users\\tomasz.stawiany\\Desktop\\toExcel\\export_excel_2010.ipynb\")) # Wyciąganie ścieżki do pliku i nazwy pliku za pomocą funkcji os.path.split:"
   ]
  },
  {
   "cell_type": "code",
   "execution_count": 18,
   "metadata": {},
   "outputs": [],
   "source": [
    "# os.mkdir(\"folder\")      #Tworzenie nowego folderu za pomocą funkcji os.mkdir:\n",
    "# if os.path.exists(\"folder\"):\n",
    "#     print(\"Istnieje!\")"
   ]
  },
  {
   "cell_type": "code",
   "execution_count": 19,
   "metadata": {},
   "outputs": [
    {
     "name": "stdout",
     "output_type": "stream",
     "text": [
      "C:\\Users\\tomasz.stawiany\\Desktop\\toExcel\n"
     ]
    }
   ],
   "source": [
    "print(os.getcwd())"
   ]
  },
  {
   "cell_type": "markdown",
   "metadata": {},
   "source": [
    "## Usuwanie folderu za pomocą funkcji os.rmdir:"
   ]
  },
  {
   "cell_type": "code",
   "execution_count": 20,
   "metadata": {},
   "outputs": [],
   "source": [
    "# os.mkdir(\"folder\")\n",
    "# if os.path.exists(\"folder\"):\n",
    "#     print(\"Istnieje!\")\n",
    "#     os.rmdir(\"folder\")\n",
    "#     if not os.path.exists(\"folder\"):\n",
    "#         print(\"A teraz nie istnieje!\")"
   ]
  },
  {
   "cell_type": "markdown",
   "metadata": {},
   "source": [
    "## Usuwanie pliku za pomocą funkcji os.remove:"
   ]
  },
  {
   "cell_type": "code",
   "execution_count": 21,
   "metadata": {},
   "outputs": [],
   "source": [
    "# file = open(\"plik.txt\",\"w\", -1, \"utf-8\")\n",
    "# file.write(\"jakiś tam tekst\")\n",
    "# file.close()\n",
    "# os.remove(\"plik.txt\")"
   ]
  },
  {
   "cell_type": "markdown",
   "metadata": {},
   "source": [
    "## Zmiana nazwy pliku lub folderu za pomocą funkcji os.rename:"
   ]
  },
  {
   "cell_type": "code",
   "execution_count": 22,
   "metadata": {},
   "outputs": [],
   "source": [
    "# file = open(\"plik.txt\",\"w\", -1, \"utf-8\")\n",
    "# file.write(\"jakiś tam tekst\")\n",
    "# file.close()\n",
    "# os.rename(\"plik.txt\",\"plik 2.txt\")"
   ]
  },
  {
   "cell_type": "markdown",
   "metadata": {},
   "source": [
    "## Funkcję rename można również wykorzystać do przeniesienia pliku z jednej lokalizacji do drugiej:"
   ]
  },
  {
   "cell_type": "code",
   "execution_count": 23,
   "metadata": {},
   "outputs": [],
   "source": [
    "# file = open(\"plik.txt\",\"w\", -1, \"utf-8\")\n",
    "# file.write(\"jakiś tam tekst\")\n",
    "# file.close()\n",
    "# os.mkdir(\"Folder na plik\")\n",
    "# os.rename(\"plik.txt\",\"Folder na plik\\plik 2.txt\")"
   ]
  },
  {
   "cell_type": "code",
   "execution_count": 24,
   "metadata": {},
   "outputs": [],
   "source": [
    "import os\n",
    "\n",
    "f = open('FileData.txt', 'w', -1, 'utf-8')\n",
    "\n",
    "for path, subfiles, files in os.walk('.'):\n",
    "    f.write('=' * 70 + '\\n')\n",
    "    f.write(path + '\\n')\n",
    "    if len(subfiles):\n",
    "        f.write('=' * 70 + '\\n')\n",
    "        f.write('Podkatalogi: \\n' + '=' * 70 + '\\n')\n",
    "        for i in subfiles:\n",
    "            f.write('\\n' + i)\n",
    "        f.write('\\n')\n",
    "    if len(files):\n",
    "        f.write('=' * 70 + '\\n')\n",
    "        f.write('Pliki: \\n' + '=' * 70 + '\\n')\n",
    "        for i in files:\n",
    "            f.write('\\n' + i)\n",
    "        f.write('\\n')\n",
    "f.close()\n"
   ]
  },
  {
   "cell_type": "code",
   "execution_count": 1,
   "metadata": {},
   "outputs": [],
   "source": [
    "import pyodbc\n"
   ]
  },
  {
   "cell_type": "code",
   "execution_count": 2,
   "metadata": {},
   "outputs": [],
   "source": [
    "#pypyodbc.win_create_mdb( r\"C:\\Users\\tomasz.stawiany\\Desktop\\toExcel\\KOREKTA_DRA_III_NUM_WZR_KBN_DANE.accdb\" )"
   ]
  },
  {
   "cell_type": "code",
   "execution_count": 16,
   "metadata": {},
   "outputs": [
    {
     "data": {
      "text/plain": [
       "<pyodbc.Cursor at 0x41a47e0>"
      ]
     },
     "execution_count": 16,
     "metadata": {},
     "output_type": "execute_result"
    }
   ],
   "source": [
    "#path =C:\\Users\\tomasz.stawiany\\Desktop\\toExcel\\KOREKTA_DRA_III_NUM_WZR_KBN_DANE.accdb\n",
    "conn = pyodbc.connect(r'Driver={Microsoft Access Driver (*.mdb, *.accdb)};DBQ=C:\\Users\\tomasz.stawiany\\Desktop\\toExcel\\KOREKTA_DRA_III_NUM_WZR_KBN_DANE.accdb')\n",
    "cursor = conn.cursor()\n",
    "cursor.execute('SELECT top 10 * FROM WYNIK')\n",
    "   \n",
    "# for row in cursor.fetchall():\n",
    "#      print (row)"
   ]
  },
  {
   "cell_type": "code",
   "execution_count": 17,
   "metadata": {},
   "outputs": [
    {
     "data": {
      "text/plain": [
       "[]"
      ]
     },
     "execution_count": 17,
     "metadata": {},
     "output_type": "execute_result"
    }
   ],
   "source": [
    "[x for x in pyodbc.drivers() if x.startswith( ' Microsoft Access Driver ' )] "
   ]
  },
  {
   "cell_type": "code",
   "execution_count": null,
   "metadata": {},
   "outputs": [],
   "source": []
  },
  {
   "cell_type": "code",
   "execution_count": null,
   "metadata": {},
   "outputs": [],
   "source": []
  },
  {
   "cell_type": "code",
   "execution_count": null,
   "metadata": {},
   "outputs": [],
   "source": []
  }
 ],
 "metadata": {
  "kernelspec": {
   "display_name": "Python 3",
   "language": "python",
   "name": "python3"
  },
  "language_info": {
   "codemirror_mode": {
    "name": "ipython",
    "version": 3
   },
   "file_extension": ".py",
   "mimetype": "text/x-python",
   "name": "python",
   "nbconvert_exporter": "python",
   "pygments_lexer": "ipython3",
   "version": "3.7.3"
  }
 },
 "nbformat": 4,
 "nbformat_minor": 2
}
