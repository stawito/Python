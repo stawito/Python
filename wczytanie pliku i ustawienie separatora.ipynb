{
 "cells": [
  {
   "cell_type": "code",
   "execution_count": 146,
   "metadata": {},
   "outputs": [],
   "source": [
    "import pandas as pd\n",
    "import numpy as np"
   ]
  },
  {
   "cell_type": "code",
   "execution_count": 147,
   "metadata": {},
   "outputs": [],
   "source": [
    "dane =pd.read_csv(r\"dane.txt\", sep=\";\",header=None )"
   ]
  },
  {
   "cell_type": "code",
   "execution_count": 148,
   "metadata": {
    "collapsed": true
   },
   "outputs": [
    {
     "name": "stdout",
     "output_type": "stream",
     "text": [
      " Wolumin w stacji C to SYSTEM\n",
      " Numer seryjny woluminu: F0C0-C0FB\n",
      "\n",
      " Katalog: C:\\Users\\tomasz.stawiany\n",
      "\n",
      "2019-07-02  13:22    <DIR>          .\n",
      "2019-07-02  13:22    <DIR>          ..\n",
      "2019-07-02  13:15    <DIR>          .ipynb_checkpoints\n",
      "2019-06-28  14:07    <DIR>          .ipython\n",
      "2019-07-02  07:19             1˙260 .java.policy\n",
      "2019-06-28  14:15    <DIR>          .jupyter\n",
      "2019-06-28  14:56    <DIR>          .matplotlib\n",
      "2019-06-04  08:40    <DIR>          Contacts\n",
      "2019-07-02  12:42            22˙296 d\n",
      "2019-07-02  13:21            26˙351 d1\n",
      "2019-06-25  09:20            26˙351 dane.txt\n",
      "2019-07-02  12:18    <DIR>          Desktop\n",
      "2019-06-28  13:30    <DIR>          Documents\n",
      "2019-07-01  12:42    <DIR>          Downloads\n",
      "2019-06-04  09:12    <DIR>          Favorites\n",
      "2019-06-04  08:40    <DIR>          Links\n",
      "2019-06-04  08:40    <DIR>          Music\n",
      "2019-06-04  08:40    <DIR>          Pictures\n",
      "2019-06-04  08:40    <DIR>          Saved Games\n",
      "2019-06-04  08:42    <DIR>          Searches\n",
      "2019-06-28  14:09             2˙012 Untitled.ipynb\n",
      "2019-06-28  15:11            17˙723 Untitled1.ipynb\n",
      "2019-06-04  08:40    <DIR>          Videos\n",
      "2019-07-02  13:22             9˙261 wczytanie pliku i ustawienie separatora.ipynb\n",
      "               7 plik(˘w)            105˙254 bajt˘w\n",
      "              17 katalog(˘w)  25˙500˙438˙528 bajt˘w wolnych\n"
     ]
    }
   ],
   "source": [
    "!dir"
   ]
  },
  {
   "cell_type": "code",
   "execution_count": 149,
   "metadata": {},
   "outputs": [
    {
     "data": {
      "text/plain": [
       "Int64Index([0, 1], dtype='int64')"
      ]
     },
     "execution_count": 149,
     "metadata": {},
     "output_type": "execute_result"
    }
   ],
   "source": [
    "dane.columns"
   ]
  },
  {
   "cell_type": "code",
   "execution_count": 150,
   "metadata": {
    "collapsed": true
   },
   "outputs": [
    {
     "data": {
      "text/plain": [
       "0       5272813470\n",
       "1       5561002861\n",
       "2       6991761245\n",
       "3       6651950668\n",
       "4       6681848673\n",
       "5       9671146988\n",
       "6       9111814673\n",
       "7       6220110165\n",
       "8       7642673023\n",
       "9       6060091713\n",
       "10      8781032529\n",
       "11      6631003287\n",
       "12      5542419117\n",
       "13      8883118163\n",
       "14      9521752523\n",
       "15      8961169856\n",
       "16      8341863812\n",
       "17      5920202644\n",
       "18      7881068934\n",
       "19      9591454713\n",
       "20      6572910048\n",
       "21      7541019569\n",
       "22      7841641793\n",
       "23      6931043919\n",
       "24      6690018617\n",
       "25      7381615273\n",
       "26      8392145162\n",
       "27      7390203825\n",
       "28      5242630894\n",
       "29      9251938116\n",
       "           ...    \n",
       "1997    8681227529\n",
       "1998    6172175355\n",
       "1999    7960066941\n",
       "2000    7541708889\n",
       "2001    5632433693\n",
       "2002    5731025721\n",
       "2003    5932444962\n",
       "2004    7492076796\n",
       "2005    8732855544\n",
       "2006    8461661809\n",
       "2007    7621938433\n",
       "2008    8992680478\n",
       "2009    5842684444\n",
       "2010    6280007057\n",
       "2011    5840154009\n",
       "2012    8111737280\n",
       "2013    9550006107\n",
       "2014    8671871281\n",
       "2015    9211810717\n",
       "2016    7141787543\n",
       "2017    7771133174\n",
       "2018    7712452506\n",
       "2019    9542266905\n",
       "2020    5891993719\n",
       "2021    6871809417\n",
       "2022    8691019703\n",
       "2023    5741867781\n",
       "2024    8421718242\n",
       "2025    5971279102\n",
       "2026    6211528764\n",
       "Name: 0, Length: 2027, dtype: int64"
      ]
     },
     "execution_count": 150,
     "metadata": {},
     "output_type": "execute_result"
    }
   ],
   "source": [
    "dane[dane.columns[0]]"
   ]
  },
  {
   "cell_type": "code",
   "execution_count": 151,
   "metadata": {},
   "outputs": [],
   "source": [
    "daneSeries = pd.Series(dane[dane.columns[0]]).unique()"
   ]
  },
  {
   "cell_type": "code",
   "execution_count": 152,
   "metadata": {},
   "outputs": [
    {
     "data": {
      "text/plain": [
       "2027"
      ]
     },
     "execution_count": 152,
     "metadata": {},
     "output_type": "execute_result"
    }
   ],
   "source": [
    "len(daneSeries)"
   ]
  },
  {
   "cell_type": "code",
   "execution_count": 153,
   "metadata": {},
   "outputs": [],
   "source": [
    "d=pd.DataFrame(daneSeries)"
   ]
  },
  {
   "cell_type": "code",
   "execution_count": 154,
   "metadata": {},
   "outputs": [],
   "source": [
    "d[\"nowa\"] = \";\""
   ]
  },
  {
   "cell_type": "code",
   "execution_count": 155,
   "metadata": {},
   "outputs": [],
   "source": [
    "d.head()\n",
    "d = d.astype(str)\n",
    "d.columns = (['No0', 'No1'])"
   ]
  },
  {
   "cell_type": "code",
   "execution_count": 1,
   "metadata": {},
   "outputs": [],
   "source": [
    "#d.head()"
   ]
  },
  {
   "cell_type": "code",
   "execution_count": 157,
   "metadata": {},
   "outputs": [],
   "source": [
    "d['No3'] = d.No0 + d.No1"
   ]
  },
  {
   "cell_type": "code",
   "execution_count": 2,
   "metadata": {},
   "outputs": [],
   "source": [
    "#d.head()"
   ]
  },
  {
   "cell_type": "code",
   "execution_count": 159,
   "metadata": {},
   "outputs": [],
   "source": [
    "d.drop(['No0','No1'],axis=1,inplace=True)"
   ]
  },
  {
   "cell_type": "code",
   "execution_count": 162,
   "metadata": {},
   "outputs": [],
   "source": [
    "d.to_csv(r\"d1.txt\",columns=None, header=False, index=None)"
   ]
  },
  {
   "cell_type": "code",
   "execution_count": null,
   "metadata": {},
   "outputs": [],
   "source": []
  },
  {
   "cell_type": "code",
   "execution_count": null,
   "metadata": {},
   "outputs": [],
   "source": []
  },
  {
   "cell_type": "code",
   "execution_count": null,
   "metadata": {},
   "outputs": [],
   "source": []
  },
  {
   "cell_type": "code",
   "execution_count": null,
   "metadata": {},
   "outputs": [],
   "source": []
  }
 ],
 "metadata": {
  "kernelspec": {
   "display_name": "Python 3",
   "language": "python",
   "name": "python3"
  },
  "language_info": {
   "codemirror_mode": {
    "name": "ipython",
    "version": 3
   },
   "file_extension": ".py",
   "mimetype": "text/x-python",
   "name": "python",
   "nbconvert_exporter": "python",
   "pygments_lexer": "ipython3",
   "version": "3.7.3"
  }
 },
 "nbformat": 4,
 "nbformat_minor": 2
}
