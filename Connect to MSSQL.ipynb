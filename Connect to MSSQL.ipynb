{
 "cells": [
  {
   "cell_type": "code",
   "execution_count": 2,
   "metadata": {},
   "outputs": [],
   "source": [
    "import numpy as np\n",
    "import pandas as pd\n",
    "import pyodbc"
   ]
  },
  {
   "cell_type": "code",
   "execution_count": 2,
   "metadata": {
    "collapsed": true
   },
   "outputs": [
    {
     "name": "stdout",
     "output_type": "stream",
     "text": [
      "('179', '87774274', '2018-12-20', '2018-12-28', '2019-01-01', '434.88', '0110', '331')\n",
      "('179', '87774274', '2018-12-20', '2018-12-28', '2019-01-01', '434.88', '0110', '331')\n",
      "('179', '87774274', '2018-12-20', '2018-12-28', '2019-01-01', '434.88', '0110', '331')\n",
      "('179', '87774274', '2018-12-20', '2018-12-28', '2019-01-01', '434.88', '0110', '331')\n",
      "('179', '87774274', '2018-12-20', '2018-12-28', '2019-01-01', '434.88', '0110', '331')\n",
      "('179', '87774274', '2018-12-20', '2018-12-28', '2019-01-01', '434.88', '0110', '331')\n"
     ]
    }
   ],
   "source": [
    "import pyodbc \n",
    "conn = pyodbc.connect('Driver={SQL Server};'\n",
    "                      'Server=SBD01-TEST;'\n",
    "                      'Database=Andrzej;'\n",
    "                      'Trusted_Connection=yes;')\n",
    "\n",
    "cursor = conn.cursor()\n",
    "cursor.execute('SELECT * FROM Andrzej.dbo.tab1')\n",
    "\n",
    "\n",
    "for row in cursor:\n",
    "    for i in range(0,6):\n",
    "        print(row)\n",
    "    break\n",
    "\n",
    "# conn.close()\n",
    "# cursor.close()"
   ]
  },
  {
   "cell_type": "code",
   "execution_count": 6,
   "metadata": {},
   "outputs": [],
   "source": [
    "# copy table\n",
    "connection = pyodbc.connect('Driver={SQL Server};'\n",
    "                      'Server=SBD01-TEST;'\n",
    "                      'Database=Andrzej;'\n",
    "                      'Trusted_Connection=yes;')\n",
    "cursorcoputable = connection.cursor()\n",
    "cursorcoputable.execute('SELECT * INTO [Andrzej].[dbo].[EME_EME_COPY] FROM  [Andrzej].[dbo].[EME_EME]')\n",
    "cursorcoputable.commit()\n",
    "# connection.close()\n",
    "# cursorcoputable.close()                        "
   ]
  },
  {
   "cell_type": "code",
   "execution_count": 7,
   "metadata": {
    "collapsed": true
   },
   "outputs": [
    {
     "name": "stdout",
     "output_type": "stream",
     "text": [
      "('179', '192842103', '2018-12-01', '2018-12-07', '2019-01-01', '338.24', '0110', '331')\n",
      "('179', '192842103', '2018-12-01', '2018-12-07', '2019-01-01', '338.24', '0110', '331')\n",
      "('179', '192842103', '2018-12-01', '2018-12-07', '2019-01-01', '338.24', '0110', '331')\n",
      "('179', '192842103', '2018-12-01', '2018-12-07', '2019-01-01', '338.24', '0110', '331')\n",
      "('179', '192842103', '2018-12-01', '2018-12-07', '2019-01-01', '338.24', '0110', '331')\n",
      "('179', '192842103', '2018-12-01', '2018-12-07', '2019-01-01', '338.24', '0110', '331')\n"
     ]
    }
   ],
   "source": [
    "# select 5 rows in table\n",
    "con = pyodbc.connect('Driver={SQL Server};'\n",
    "                      'Server=SBD01-TEST;'\n",
    "                      'Database=Andrzej;'\n",
    "                      'Trusted_Connection=yes;')\n",
    "\n",
    "cur = con.cursor()\n",
    "cur.execute('SELECT * FROM [Andrzej].[dbo].[EME_EME_COPY]')\n",
    "\n",
    "for row in cursor:\n",
    "    for i in range(0,6):\n",
    "        print(row)\n",
    "    break\n",
    "# con.close()\n",
    "# cur.close()"
   ]
  },
  {
   "cell_type": "code",
   "execution_count": 3,
   "metadata": {},
   "outputs": [],
   "source": [
    "# Drop table\n",
    "condroptable = pyodbc.connect('Driver={SQL Server};'\n",
    "                      'Server=SBD01-TEST;'\n",
    "                      'Database=Andrzej;'\n",
    "                      'Trusted_Connection=yes;')\n",
    "cursordroptable = condroptable.cursor()\n",
    "cursordroptable.execute('DROP TABLE [Andrzej].[dbo].[EME_EME_COP]')\n",
    "cursordroptable.commit()"
   ]
  },
  {
   "cell_type": "code",
   "execution_count": 5,
   "metadata": {},
   "outputs": [],
   "source": [
    "# add columns\n",
    "concol = pyodbc.connect('Driver={SQL Server};'\n",
    "                      'Server=SBD01-TEST;'\n",
    "                      'Database=Andrzej;'\n",
    "                      'Trusted_Connection=yes;')\n",
    "\n",
    "curcol = concol.cursor()\n",
    "curcol.execute('''\n",
    "ALTER TABLE [Andrzej].[dbo].[EME_EME_COPY]\n",
    "ADD [ilosc_dni] int,\n",
    "    [do_usuniecia] int\n",
    "                ''')\n",
    "\n",
    "curcol.commit()\n"
   ]
  },
  {
   "cell_type": "code",
   "execution_count": 7,
   "metadata": {},
   "outputs": [],
   "source": [
    "# drop columns\n",
    "concol = pyodbc.connect('Driver={SQL Server};'\n",
    "                      'Server=SBD01-TEST;'\n",
    "                      'Database=Andrzej;'\n",
    "                      'Trusted_Connection=yes;')\n",
    "\n",
    "curcol = concol.cursor()\n",
    "curcol.execute('''\n",
    "ALTER TABLE [Andrzej].[dbo].[EME_EME_COPY]\n",
    "DROP COLUMN [ilosc_dni],\n",
    "            [do_usuniecia]\n",
    "                ''')\n",
    "\n",
    "curcol.commit()"
   ]
  },
  {
   "cell_type": "code",
   "execution_count": 10,
   "metadata": {},
   "outputs": [
    {
     "ename": "ProgrammingError",
     "evalue": "('42S01', \"[42S01] [Microsoft][ODBC SQL Server Driver][SQL Server]There is already an object named 'EME_EME_COPY_PUST' in the database. (2714) (SQLExecDirectW)\")",
     "output_type": "error",
     "traceback": [
      "\u001b[1;31m---------------------------------------------------------------------------\u001b[0m",
      "\u001b[1;31mProgrammingError\u001b[0m                          Traceback (most recent call last)",
      "\u001b[1;32m<ipython-input-10-72fd1706eb33>\u001b[0m in \u001b[0;36m<module>\u001b[1;34m\u001b[0m\n\u001b[0;32m     11\u001b[0m   \u001b[0mFROM\u001b[0m \u001b[1;33m[\u001b[0m\u001b[0mAndrzej\u001b[0m\u001b[1;33m]\u001b[0m\u001b[1;33m.\u001b[0m\u001b[1;33m[\u001b[0m\u001b[0mdbo\u001b[0m\u001b[1;33m]\u001b[0m\u001b[1;33m.\u001b[0m\u001b[1;33m[\u001b[0m\u001b[0mEME_EME_COPY\u001b[0m\u001b[1;33m]\u001b[0m \u001b[1;32mas\u001b[0m \u001b[0mE\u001b[0m\u001b[1;33m\u001b[0m\u001b[1;33m\u001b[0m\u001b[0m\n\u001b[0;32m     12\u001b[0m   \u001b[0mWHERE\u001b[0m \u001b[0mE\u001b[0m\u001b[1;33m.\u001b[0m\u001b[0mTJO\u001b[0m \u001b[1;32mis\u001b[0m \u001b[0mnull\u001b[0m\u001b[1;33m\u001b[0m\u001b[1;33m\u001b[0m\u001b[0m\n\u001b[1;32m---> 13\u001b[1;33m                 ''')\n\u001b[0m\u001b[0;32m     14\u001b[0m \u001b[1;33m\u001b[0m\u001b[0m\n\u001b[0;32m     15\u001b[0m \u001b[0mcurcol\u001b[0m\u001b[1;33m.\u001b[0m\u001b[0mcommit\u001b[0m\u001b[1;33m(\u001b[0m\u001b[1;33m)\u001b[0m\u001b[1;33m\u001b[0m\u001b[1;33m\u001b[0m\u001b[0m\n",
      "\u001b[1;31mProgrammingError\u001b[0m: ('42S01', \"[42S01] [Microsoft][ODBC SQL Server Driver][SQL Server]There is already an object named 'EME_EME_COPY_PUST' in the database. (2714) (SQLExecDirectW)\")"
     ]
    }
   ],
   "source": [
    "# serching and create table\n",
    "concol = pyodbc.connect('Driver={SQL Server};'\n",
    "                      'Server=SBD01-TEST;'\n",
    "                      'Database=Andrzej;'\n",
    "                      'Trusted_Connection=yes;')\n",
    "\n",
    "curcol = concol.cursor()\n",
    "curcol.execute('''\n",
    "SELECT [ID konta CRU]\n",
    "      ,[Kod tytułu ubezpieczenia] into [Andrzej].[dbo].[EME_EME_COPY_PUST]\n",
    "  FROM [Andrzej].[dbo].[EME_EME_COPY] as E\n",
    "  WHERE E.TJO is null\n",
    "                ''')\n",
    "\n",
    "curcol.commit()"
   ]
  },
  {
   "cell_type": "code",
   "execution_count": 11,
   "metadata": {},
   "outputs": [],
   "source": [
    "# \n",
    "concol = pyodbc.connect('Driver={SQL Server};'\n",
    "                      'Server=SBD01-TEST;'\n",
    "                      'Database=Andrzej;'\n",
    "                      'Trusted_Connection=yes;')\n",
    "\n",
    "curcol = concol.cursor()\n",
    "curcol.execute('''\n",
    "Select * into EME_EME_COPY_PUST_MC\n",
    "From (\n",
    "SELECT [ID konta CRU],[Kod tytułu ubezpieczenia],F3\n",
    "  FROM EME_EME_COPY_PUST as E join MC2 as M2\n",
    "  on (E.[ID konta CRU] = M2.F1 )  and (E.[Kod tytułu ubezpieczenia] = M2.F2)\n",
    "\n",
    "  UNION\n",
    "\n",
    "  SELECT [ID konta CRU],[Kod tytułu ubezpieczenia],F3\n",
    "  FROM EME_EME_COPY_PUST as E join MC1 as M1\n",
    "  on (E.[ID konta CRU] = M1.F1 )  and (E.[Kod tytułu ubezpieczenia] = M1.F2) \n",
    "  ) as A\n",
    "                ''')\n",
    "\n",
    "curcol.commit()"
   ]
  },
  {
   "cell_type": "code",
   "execution_count": 12,
   "metadata": {},
   "outputs": [],
   "source": [
    "# \n",
    "concol = pyodbc.connect('Driver={SQL Server};'\n",
    "                      'Server=SBD01-TEST;'\n",
    "                      'Database=Andrzej;'\n",
    "                      'Trusted_Connection=yes;')\n",
    "\n",
    "curcol = concol.cursor()\n",
    "curcol.execute('''\n",
    "SELECT [Column 0]\n",
    "      ,[Column 1]\n",
    "      ,CASE WHEN LEN([Column 1])=6 THEN CAST(LEFT([Column 1],2)as varchar(2))\n",
    "           else CONCAT( 0 , CAST(LEFT([Column 1],1) as varchar(2)) )\n",
    "      END as TJO into TJO_TJO\n",
    "\n",
    "FROM [TJO]\n",
    "                ''')\n",
    "\n",
    "curcol.commit()"
   ]
  },
  {
   "cell_type": "code",
   "execution_count": 13,
   "metadata": {},
   "outputs": [],
   "source": [
    "# \n",
    "concol = pyodbc.connect('Driver={SQL Server};'\n",
    "                      'Server=SBD01-TEST;'\n",
    "                      'Database=Andrzej;'\n",
    "                      'Trusted_Connection=yes;')\n",
    "\n",
    "curcol = concol.cursor()\n",
    "curcol.execute('''\n",
    "SELECT * into MC\n",
    "FROM (\n",
    "SELECT *\n",
    "  FROM [Andrzej].[dbo].[MC1]\n",
    "\n",
    "union\n",
    "\n",
    "SELECT *\n",
    "  FROM [Andrzej].[dbo].[MC2] ) as tab\n",
    "                ''')\n",
    "\n",
    "curcol.commit()"
   ]
  },
  {
   "cell_type": "code",
   "execution_count": 14,
   "metadata": {},
   "outputs": [],
   "source": [
    "# \n",
    "concol = pyodbc.connect('Driver={SQL Server};'\n",
    "                      'Server=SBD01-TEST;'\n",
    "                      'Database=Andrzej;'\n",
    "                      'Trusted_Connection=yes;')\n",
    "\n",
    "curcol = concol.cursor()\n",
    "curcol.execute('''\n",
    "SELECT [ID konta CRU]\n",
    "      ,[Kod tytułu ubezpieczenia]\n",
    "      ,[F3]\n",
    "      ,T.TJO\n",
    "      ,klucz.[Nazwa TJO] into EME_EME_COPY_PUST_MC_WYNIK\n",
    "  FROM ([EME_EME_COPY_PUST_MC] AS EMC left join [TJO_TJO] as T\n",
    "  on    LTRIM(EMC.[F3]) = T.[Column 0] ) left join [EME_klucz] AS klucz\n",
    "  on    T.TJO = klucz.TJO\n",
    "                ''')\n",
    "\n",
    "curcol.commit()"
   ]
  },
  {
   "cell_type": "code",
   "execution_count": 17,
   "metadata": {},
   "outputs": [],
   "source": [
    "import bcpy"
   ]
  },
  {
   "cell_type": "code",
   "execution_count": null,
   "metadata": {},
   "outputs": [],
   "source": []
  }
 ],
 "metadata": {
  "kernelspec": {
   "display_name": "Python 3",
   "language": "python",
   "name": "python3"
  }
 },
 "nbformat": 4,
 "nbformat_minor": 2
}
